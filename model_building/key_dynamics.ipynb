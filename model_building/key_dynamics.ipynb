{
 "cells": [
  {
   "cell_type": "code",
   "execution_count": 35,
   "metadata": {},
   "outputs": [],
   "source": [
    "import pandas as pd"
   ]
  },
  {
   "cell_type": "code",
   "execution_count": 36,
   "metadata": {},
   "outputs": [],
   "source": [
    "data = pd.read_csv('Key_Dynamics.csv')"
   ]
  },
  {
   "cell_type": "code",
   "execution_count": 37,
   "metadata": {},
   "outputs": [],
   "source": [
    "data.drop([\"sessionIndex\", \"rep\"], axis=1, inplace=True)"
   ]
  },
  {
   "cell_type": "code",
   "execution_count": 39,
   "metadata": {},
   "outputs": [
    {
     "name": "stdout",
     "output_type": "stream",
     "text": [
      "(20400, 51)\n"
     ]
    }
   ],
   "source": [
    "from sklearn.compose import ColumnTransformer\n",
    "from sklearn.preprocessing import OneHotEncoder\n",
    "import numpy as np\n",
    "\n",
    "ct = ColumnTransformer(transformers=[('encoder', OneHotEncoder(),[0])],remainder='passthrough')\n",
    "unique_cols = data['subject'].nunique()\n",
    "\n",
    "data = np.array(ct.fit_transform(data))\n",
    "X = data[:,unique_cols:]\n",
    "y = data[:,:unique_cols]\n",
    "print(y.shape)"
   ]
  },
  {
   "cell_type": "code",
   "execution_count": 40,
   "metadata": {},
   "outputs": [],
   "source": [
    "from sklearn.model_selection import train_test_split\n",
    "\n",
    "X_train, X_test, y_train, y_test = train_test_split(X, y, test_size = 0.2, random_state = 1)"
   ]
  },
  {
   "cell_type": "code",
   "execution_count": 41,
   "metadata": {},
   "outputs": [],
   "source": [
    "from sklearn.preprocessing import StandardScaler\n",
    "sc = StandardScaler()\n",
    "X_train = sc.fit_transform(X_train)\n",
    "X_test = sc.transform(X_test)"
   ]
  },
  {
   "cell_type": "code",
   "execution_count": 42,
   "metadata": {},
   "outputs": [
    {
     "name": "stdout",
     "output_type": "stream",
     "text": [
      "Epoch 1/10\n",
      "510/510 [==============================] - 4s 7ms/step - loss: 1.7649 - accuracy: 0.5920\n",
      "Epoch 2/10\n",
      "510/510 [==============================] - 3s 7ms/step - loss: 1.0333 - accuracy: 0.7741\n",
      "Epoch 3/10\n",
      "510/510 [==============================] - 3s 7ms/step - loss: 1.0103 - accuracy: 0.7730\n",
      "Epoch 4/10\n",
      "510/510 [==============================] - 4s 7ms/step - loss: 0.9597 - accuracy: 0.7878\n",
      "Epoch 5/10\n",
      "510/510 [==============================] - 3s 7ms/step - loss: 0.9856 - accuracy: 0.7794\n",
      "Epoch 6/10\n",
      "510/510 [==============================] - 3s 7ms/step - loss: 0.9687 - accuracy: 0.7775\n",
      "Epoch 7/10\n",
      "510/510 [==============================] - 4s 7ms/step - loss: 1.0002 - accuracy: 0.7724\n",
      "Epoch 8/10\n",
      "510/510 [==============================] - 4s 7ms/step - loss: 0.9976 - accuracy: 0.7744\n",
      "Epoch 9/10\n",
      "510/510 [==============================] - 4s 7ms/step - loss: 0.9455 - accuracy: 0.7884\n",
      "Epoch 10/10\n",
      "510/510 [==============================] - 4s 7ms/step - loss: 0.9524 - accuracy: 0.7833\n"
     ]
    },
    {
     "data": {
      "text/plain": [
       "<keras.src.callbacks.History at 0x294eabdf0>"
      ]
     },
     "execution_count": 42,
     "metadata": {},
     "output_type": "execute_result"
    }
   ],
   "source": [
    "import tensorflow as tf\n",
    "from tensorflow.keras.models import Sequential\n",
    "from tensorflow.keras.layers import Dense\n",
    "\n",
    "model = Sequential()\n",
    "model.add(Dense(units=128, activation='relu'))\n",
    "model.add(Dense(units=64, activation='relu'))\n",
    "model.add(Dense(units=unique_cols, activation='softmax'))\n",
    "\n",
    "model.compile(optimizer='adam', loss='categorical_crossentropy', metrics=['accuracy'])\n",
    "\n",
    "model.fit(X_train, y_train, epochs=10, batch_size=32)"
   ]
  },
  {
   "cell_type": "code",
   "execution_count": 44,
   "metadata": {},
   "outputs": [
    {
     "name": "stdout",
     "output_type": "stream",
     "text": [
      "128/128 [==============================] - 1s 6ms/step - loss: 0.9174 - accuracy: 0.7775\n"
     ]
    },
    {
     "data": {
      "text/plain": [
       "[0.9173995852470398, 0.7774509787559509]"
      ]
     },
     "execution_count": 44,
     "metadata": {},
     "output_type": "execute_result"
    }
   ],
   "source": [
    "model.evaluate(X_test, y_test)"
   ]
  }
 ],
 "metadata": {
  "kernelspec": {
   "display_name": ".venv",
   "language": "python",
   "name": "python3"
  },
  "language_info": {
   "codemirror_mode": {
    "name": "ipython",
    "version": 3
   },
   "file_extension": ".py",
   "mimetype": "text/x-python",
   "name": "python",
   "nbconvert_exporter": "python",
   "pygments_lexer": "ipython3",
   "version": "3.9.6"
  }
 },
 "nbformat": 4,
 "nbformat_minor": 2
}
